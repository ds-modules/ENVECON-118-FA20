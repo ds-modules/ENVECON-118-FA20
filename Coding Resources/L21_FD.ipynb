{
 "cells": [
  {
   "cell_type": "code",
   "execution_count": 1,
   "metadata": {},
   "outputs": [
    {
     "name": "stderr",
     "output_type": "stream",
     "text": [
      "── Attaching packages ─────────────────────────────────────── tidyverse 1.2.1 ──\n",
      "✔ ggplot2 3.2.1     ✔ purrr   0.3.3\n",
      "✔ tibble  2.1.3     ✔ dplyr   0.8.3\n",
      "✔ tidyr   1.0.0     ✔ stringr 1.4.0\n",
      "✔ readr   1.1.1     ✔ forcats 0.3.0\n",
      "── Conflicts ────────────────────────────────────────── tidyverse_conflicts() ──\n",
      "✖ dplyr::filter() masks stats::filter()\n",
      "✖ dplyr::lag()    masks stats::lag()\n"
     ]
    },
    {
     "data": {
      "text/html": [
       "<table>\n",
       "<caption>A tibble: 6 × 9</caption>\n",
       "<thead>\n",
       "\t<tr><th scope=col>pop</th><th scope=col>crimes</th><th scope=col>unem</th><th scope=col>officers</th><th scope=col>west</th><th scope=col>nrtheast</th><th scope=col>south</th><th scope=col>year</th><th scope=col>city</th></tr>\n",
       "\t<tr><th scope=col>&lt;dbl&gt;</th><th scope=col>&lt;dbl&gt;</th><th scope=col>&lt;dbl&gt;</th><th scope=col>&lt;dbl&gt;</th><th scope=col>&lt;dbl&gt;</th><th scope=col>&lt;dbl&gt;</th><th scope=col>&lt;dbl&gt;</th><th scope=col>&lt;dbl&gt;</th><th scope=col>&lt;dbl&gt;</th></tr>\n",
       "</thead>\n",
       "<tbody>\n",
       "\t<tr><td>229528</td><td>17136</td><td>8.2</td><td> 326</td><td>1</td><td>0</td><td>0</td><td>82</td><td>1</td></tr>\n",
       "\t<tr><td>246815</td><td>17306</td><td>3.7</td><td> 321</td><td>1</td><td>0</td><td>0</td><td>87</td><td>1</td></tr>\n",
       "\t<tr><td>814054</td><td>75654</td><td>8.1</td><td>1621</td><td>1</td><td>0</td><td>0</td><td>82</td><td>2</td></tr>\n",
       "\t<tr><td>933177</td><td>83960</td><td>5.4</td><td>1803</td><td>1</td><td>0</td><td>0</td><td>87</td><td>2</td></tr>\n",
       "\t<tr><td>374974</td><td>31352</td><td>9.0</td><td> 633</td><td>1</td><td>0</td><td>0</td><td>82</td><td>3</td></tr>\n",
       "\t<tr><td>406297</td><td>31364</td><td>5.9</td><td> 685</td><td>1</td><td>0</td><td>0</td><td>87</td><td>3</td></tr>\n",
       "</tbody>\n",
       "</table>\n"
      ],
      "text/latex": [
       "A tibble: 6 × 9\n",
       "\\begin{tabular}{r|lllllllll}\n",
       " pop & crimes & unem & officers & west & nrtheast & south & year & city\\\\\n",
       " <dbl> & <dbl> & <dbl> & <dbl> & <dbl> & <dbl> & <dbl> & <dbl> & <dbl>\\\\\n",
       "\\hline\n",
       "\t 229528 & 17136 & 8.2 &  326 & 1 & 0 & 0 & 82 & 1\\\\\n",
       "\t 246815 & 17306 & 3.7 &  321 & 1 & 0 & 0 & 87 & 1\\\\\n",
       "\t 814054 & 75654 & 8.1 & 1621 & 1 & 0 & 0 & 82 & 2\\\\\n",
       "\t 933177 & 83960 & 5.4 & 1803 & 1 & 0 & 0 & 87 & 2\\\\\n",
       "\t 374974 & 31352 & 9.0 &  633 & 1 & 0 & 0 & 82 & 3\\\\\n",
       "\t 406297 & 31364 & 5.9 &  685 & 1 & 0 & 0 & 87 & 3\\\\\n",
       "\\end{tabular}\n"
      ],
      "text/markdown": [
       "\n",
       "A tibble: 6 × 9\n",
       "\n",
       "| pop &lt;dbl&gt; | crimes &lt;dbl&gt; | unem &lt;dbl&gt; | officers &lt;dbl&gt; | west &lt;dbl&gt; | nrtheast &lt;dbl&gt; | south &lt;dbl&gt; | year &lt;dbl&gt; | city &lt;dbl&gt; |\n",
       "|---|---|---|---|---|---|---|---|---|\n",
       "| 229528 | 17136 | 8.2 |  326 | 1 | 0 | 0 | 82 | 1 |\n",
       "| 246815 | 17306 | 3.7 |  321 | 1 | 0 | 0 | 87 | 1 |\n",
       "| 814054 | 75654 | 8.1 | 1621 | 1 | 0 | 0 | 82 | 2 |\n",
       "| 933177 | 83960 | 5.4 | 1803 | 1 | 0 | 0 | 87 | 2 |\n",
       "| 374974 | 31352 | 9.0 |  633 | 1 | 0 | 0 | 82 | 3 |\n",
       "| 406297 | 31364 | 5.9 |  685 | 1 | 0 | 0 | 87 | 3 |\n",
       "\n"
      ],
      "text/plain": [
       "  pop    crimes unem officers west nrtheast south year city\n",
       "1 229528 17136  8.2   326     1    0        0     82   1   \n",
       "2 246815 17306  3.7   321     1    0        0     87   1   \n",
       "3 814054 75654  8.1  1621     1    0        0     82   2   \n",
       "4 933177 83960  5.4  1803     1    0        0     87   2   \n",
       "5 374974 31352  9.0   633     1    0        0     82   3   \n",
       "6 406297 31364  5.9   685     1    0        0     87   3   "
      ]
     },
     "metadata": {},
     "output_type": "display_data"
    }
   ],
   "source": [
    "library(haven)\n",
    "library(tidyverse)\n",
    "crimedata<- read_dta(\"crime2_forlecture.dta\")\n",
    "head(crimedata)"
   ]
  },
  {
   "cell_type": "code",
   "execution_count": null,
   "metadata": {},
   "outputs": [],
   "source": [
    "reg1<- lm(crimes~unem, data = crimedata, subset = year==82)\n",
    "summary(reg1)"
   ]
  },
  {
   "cell_type": "code",
   "execution_count": null,
   "metadata": {},
   "outputs": [],
   "source": [
    "#one way to create a wide dataset: first, create 2 data sets, one for each year\n",
    "crimedata82 = subset(crimedata, year == 82)\n",
    "crimedata87 = subset(crimedata, year == 87)\n",
    "#merge data on city id\n",
    "crimedatawide = merge(crimedata82, crimedata87, by = c(\"city\"), suffixes = c(\".82\",\".87\"))\n",
    "head(crimedatawide)"
   ]
  },
  {
   "cell_type": "code",
   "execution_count": null,
   "metadata": {},
   "outputs": [],
   "source": [
    "#generate new variables\n",
    "crimedatawide$dcrime<-crimedatawide$crimes.87-crimedatawide$crimes.82\n",
    "crimedatawide$dunem<-crimedatawide$unem.87-crimedatawide$unem.82\n",
    "\n",
    "#run differenced regression\n",
    "reg2<-lm(dcrime~dunem, data = crimedatawide)\n",
    "summary(reg2)"
   ]
  },
  {
   "cell_type": "code",
   "execution_count": null,
   "metadata": {},
   "outputs": [],
   "source": [
    "crimedata$city<-as.factor(crimedata$city)\n",
    "crimedata$y87<-crimedata$year==87\n",
    "#run regression with city dummies\n",
    "reg3<-lm(crimes~unem + city + y87 , data = crimedata)\n",
    "summary(reg3)"
   ]
  },
  {
   "cell_type": "code",
   "execution_count": 2,
   "metadata": {},
   "outputs": [
    {
     "data": {
      "text/html": [
       "<table>\n",
       "<caption>A tibble: 6 × 13</caption>\n",
       "<thead>\n",
       "\t<tr><th scope=col>state</th><th scope=col>admn90</th><th scope=col>admn85</th><th scope=col>open90</th><th scope=col>open85</th><th scope=col>dthrte90</th><th scope=col>dthrte85</th><th scope=col>speed90</th><th scope=col>speed85</th><th scope=col>cdthrte</th><th scope=col>cadmn</th><th scope=col>copen</th><th scope=col>cspeed</th></tr>\n",
       "\t<tr><th scope=col>&lt;chr&gt;</th><th scope=col>&lt;dbl&gt;</th><th scope=col>&lt;dbl&gt;</th><th scope=col>&lt;dbl&gt;</th><th scope=col>&lt;dbl&gt;</th><th scope=col>&lt;dbl&gt;</th><th scope=col>&lt;dbl&gt;</th><th scope=col>&lt;dbl&gt;</th><th scope=col>&lt;dbl&gt;</th><th scope=col>&lt;dbl&gt;</th><th scope=col>&lt;dbl&gt;</th><th scope=col>&lt;dbl&gt;</th><th scope=col>&lt;dbl&gt;</th></tr>\n",
       "</thead>\n",
       "<tbody>\n",
       "\t<tr><td>AL</td><td>0</td><td>0</td><td>0</td><td>0</td><td>2.6</td><td>2.9</td><td>1</td><td>0</td><td>-0.3000002</td><td>0</td><td>0</td><td>1</td></tr>\n",
       "\t<tr><td>AK</td><td>1</td><td>1</td><td>1</td><td>0</td><td>2.1</td><td>3.2</td><td>0</td><td>0</td><td>-1.1000001</td><td>0</td><td>1</td><td>0</td></tr>\n",
       "\t<tr><td>AZ</td><td>1</td><td>0</td><td>0</td><td>0</td><td>2.5</td><td>4.4</td><td>1</td><td>0</td><td>-1.9000001</td><td>1</td><td>0</td><td>1</td></tr>\n",
       "\t<tr><td>AR</td><td>0</td><td>0</td><td>0</td><td>0</td><td>2.9</td><td>3.4</td><td>1</td><td>0</td><td>-0.5000000</td><td>0</td><td>0</td><td>1</td></tr>\n",
       "\t<tr><td>CA</td><td>1</td><td>0</td><td>1</td><td>1</td><td>2.0</td><td>2.6</td><td>1</td><td>0</td><td>-0.5999999</td><td>1</td><td>0</td><td>1</td></tr>\n",
       "\t<tr><td>CO</td><td>1</td><td>1</td><td>0</td><td>0</td><td>1.9</td><td>2.4</td><td>1</td><td>0</td><td>-0.5000001</td><td>0</td><td>0</td><td>1</td></tr>\n",
       "</tbody>\n",
       "</table>\n"
      ],
      "text/latex": [
       "A tibble: 6 × 13\n",
       "\\begin{tabular}{r|lllllllllllll}\n",
       " state & admn90 & admn85 & open90 & open85 & dthrte90 & dthrte85 & speed90 & speed85 & cdthrte & cadmn & copen & cspeed\\\\\n",
       " <chr> & <dbl> & <dbl> & <dbl> & <dbl> & <dbl> & <dbl> & <dbl> & <dbl> & <dbl> & <dbl> & <dbl> & <dbl>\\\\\n",
       "\\hline\n",
       "\t AL & 0 & 0 & 0 & 0 & 2.6 & 2.9 & 1 & 0 & -0.3000002 & 0 & 0 & 1\\\\\n",
       "\t AK & 1 & 1 & 1 & 0 & 2.1 & 3.2 & 0 & 0 & -1.1000001 & 0 & 1 & 0\\\\\n",
       "\t AZ & 1 & 0 & 0 & 0 & 2.5 & 4.4 & 1 & 0 & -1.9000001 & 1 & 0 & 1\\\\\n",
       "\t AR & 0 & 0 & 0 & 0 & 2.9 & 3.4 & 1 & 0 & -0.5000000 & 0 & 0 & 1\\\\\n",
       "\t CA & 1 & 0 & 1 & 1 & 2.0 & 2.6 & 1 & 0 & -0.5999999 & 1 & 0 & 1\\\\\n",
       "\t CO & 1 & 1 & 0 & 0 & 1.9 & 2.4 & 1 & 0 & -0.5000001 & 0 & 0 & 1\\\\\n",
       "\\end{tabular}\n"
      ],
      "text/markdown": [
       "\n",
       "A tibble: 6 × 13\n",
       "\n",
       "| state &lt;chr&gt; | admn90 &lt;dbl&gt; | admn85 &lt;dbl&gt; | open90 &lt;dbl&gt; | open85 &lt;dbl&gt; | dthrte90 &lt;dbl&gt; | dthrte85 &lt;dbl&gt; | speed90 &lt;dbl&gt; | speed85 &lt;dbl&gt; | cdthrte &lt;dbl&gt; | cadmn &lt;dbl&gt; | copen &lt;dbl&gt; | cspeed &lt;dbl&gt; |\n",
       "|---|---|---|---|---|---|---|---|---|---|---|---|---|\n",
       "| AL | 0 | 0 | 0 | 0 | 2.6 | 2.9 | 1 | 0 | -0.3000002 | 0 | 0 | 1 |\n",
       "| AK | 1 | 1 | 1 | 0 | 2.1 | 3.2 | 0 | 0 | -1.1000001 | 0 | 1 | 0 |\n",
       "| AZ | 1 | 0 | 0 | 0 | 2.5 | 4.4 | 1 | 0 | -1.9000001 | 1 | 0 | 1 |\n",
       "| AR | 0 | 0 | 0 | 0 | 2.9 | 3.4 | 1 | 0 | -0.5000000 | 0 | 0 | 1 |\n",
       "| CA | 1 | 0 | 1 | 1 | 2.0 | 2.6 | 1 | 0 | -0.5999999 | 1 | 0 | 1 |\n",
       "| CO | 1 | 1 | 0 | 0 | 1.9 | 2.4 | 1 | 0 | -0.5000001 | 0 | 0 | 1 |\n",
       "\n"
      ],
      "text/plain": [
       "  state admn90 admn85 open90 open85 dthrte90 dthrte85 speed90 speed85\n",
       "1 AL    0      0      0      0      2.6      2.9      1       0      \n",
       "2 AK    1      1      1      0      2.1      3.2      0       0      \n",
       "3 AZ    1      0      0      0      2.5      4.4      1       0      \n",
       "4 AR    0      0      0      0      2.9      3.4      1       0      \n",
       "5 CA    1      0      1      1      2.0      2.6      1       0      \n",
       "6 CO    1      1      0      0      1.9      2.4      1       0      \n",
       "  cdthrte    cadmn copen cspeed\n",
       "1 -0.3000002 0     0     1     \n",
       "2 -1.1000001 0     1     0     \n",
       "3 -1.9000001 1     0     1     \n",
       "4 -0.5000000 0     0     1     \n",
       "5 -0.5999999 1     0     1     \n",
       "6 -0.5000001 0     0     1     "
      ]
     },
     "metadata": {},
     "output_type": "display_data"
    }
   ],
   "source": [
    "trafficdata<-read_dta(\"TRAFFIC1.DTA\")\n",
    "head(trafficdata)"
   ]
  },
  {
   "cell_type": "code",
   "execution_count": 3,
   "metadata": {},
   "outputs": [
    {
     "name": "stdout",
     "output_type": "stream",
     "text": [
      "[1] \"states with open container laws in 1990\"\n"
     ]
    },
    {
     "data": {
      "text/html": [
       "22"
      ],
      "text/latex": [
       "22"
      ],
      "text/markdown": [
       "22"
      ],
      "text/plain": [
       "[1] 22"
      ]
     },
     "metadata": {},
     "output_type": "display_data"
    },
    {
     "name": "stdout",
     "output_type": "stream",
     "text": [
      "[1] \"states with open container laws in 1985\"\n"
     ]
    },
    {
     "data": {
      "text/html": [
       "19"
      ],
      "text/latex": [
       "19"
      ],
      "text/markdown": [
       "19"
      ],
      "text/plain": [
       "[1] 19"
      ]
     },
     "metadata": {},
     "output_type": "display_data"
    },
    {
     "name": "stdout",
     "output_type": "stream",
     "text": [
      "[1] \"states with admin per se laws in 1990\"\n"
     ]
    },
    {
     "data": {
      "text/html": [
       "29"
      ],
      "text/latex": [
       "29"
      ],
      "text/markdown": [
       "29"
      ],
      "text/plain": [
       "[1] 29"
      ]
     },
     "metadata": {},
     "output_type": "display_data"
    },
    {
     "name": "stdout",
     "output_type": "stream",
     "text": [
      "[1] \"states with admin per se laws in 1985\"\n"
     ]
    },
    {
     "data": {
      "text/html": [
       "21"
      ],
      "text/latex": [
       "21"
      ],
      "text/markdown": [
       "21"
      ],
      "text/plain": [
       "[1] 21"
      ]
     },
     "metadata": {},
     "output_type": "display_data"
    }
   ],
   "source": [
    "#describe law changes\n",
    "print(\"states with open container laws in 1990\")\n",
    "sum(trafficdata$open90)\n",
    "print(\"states with open container laws in 1985\")\n",
    "sum(trafficdata$open85)\n",
    "print(\"states with admin per se laws in 1990\")\n",
    "sum(trafficdata$admn90)\n",
    "print(\"states with admin per se laws in 1985\")\n",
    "sum(trafficdata$admn85)\n",
    "\n"
   ]
  },
  {
   "cell_type": "code",
   "execution_count": 4,
   "metadata": {},
   "outputs": [
    {
     "data": {
      "text/html": [
       "<table>\n",
       "<caption>A tibble: 2 × 2</caption>\n",
       "<thead>\n",
       "\t<tr><th scope=col>change_open</th><th scope=col>meandth</th></tr>\n",
       "\t<tr><th scope=col>&lt;dbl&gt;</th><th scope=col>&lt;dbl&gt;</th></tr>\n",
       "</thead>\n",
       "<tbody>\n",
       "\t<tr><td>0</td><td>-0.5187500</td></tr>\n",
       "\t<tr><td>1</td><td>-0.9666667</td></tr>\n",
       "</tbody>\n",
       "</table>\n"
      ],
      "text/latex": [
       "A tibble: 2 × 2\n",
       "\\begin{tabular}{r|ll}\n",
       " change\\_open & meandth\\\\\n",
       " <dbl> & <dbl>\\\\\n",
       "\\hline\n",
       "\t 0 & -0.5187500\\\\\n",
       "\t 1 & -0.9666667\\\\\n",
       "\\end{tabular}\n"
      ],
      "text/markdown": [
       "\n",
       "A tibble: 2 × 2\n",
       "\n",
       "| change_open &lt;dbl&gt; | meandth &lt;dbl&gt; |\n",
       "|---|---|\n",
       "| 0 | -0.5187500 |\n",
       "| 1 | -0.9666667 |\n",
       "\n"
      ],
      "text/plain": [
       "  change_open meandth   \n",
       "1 0           -0.5187500\n",
       "2 1           -0.9666667"
      ]
     },
     "metadata": {},
     "output_type": "display_data"
    },
    {
     "data": {
      "text/plain": [
       "\n",
       "Call:\n",
       "lm(formula = change_death ~ change_open, data = trafficdata)\n",
       "\n",
       "Residuals:\n",
       "     Min       1Q   Median       3Q      Max \n",
       "-1.38125 -0.10729  0.01875  0.21875  0.81875 \n",
       "\n",
       "Coefficients:\n",
       "            Estimate Std. Error t value Pr(>|t|)    \n",
       "(Intercept) -0.51875    0.04991 -10.393 5.51e-14 ***\n",
       "change_open -0.44792    0.20580  -2.176   0.0344 *  \n",
       "---\n",
       "Signif. codes:  0 ‘***’ 0.001 ‘**’ 0.01 ‘*’ 0.05 ‘.’ 0.1 ‘ ’ 1\n",
       "\n",
       "Residual standard error: 0.3458 on 49 degrees of freedom\n",
       "Multiple R-squared:  0.08815,\tAdjusted R-squared:  0.06954 \n",
       "F-statistic: 4.737 on 1 and 49 DF,  p-value: 0.03437\n"
      ]
     },
     "metadata": {},
     "output_type": "display_data"
    }
   ],
   "source": [
    "#difference-in-difference\n",
    "trafficdata$change_open = trafficdata$open90-trafficdata$open85\n",
    "trafficdata$change_death = trafficdata$dthrte90-trafficdata$dthrte85\n",
    "\n",
    "#mean comparison\n",
    "trafficdata %>%\n",
    "    group_by(change_open) %>%\n",
    "    summarize(meandth=mean(change_death))\n",
    "    \n",
    "#or, via regression\n",
    "reg3<-lm(change_death~change_open, data = trafficdata)\n",
    "summary(reg3)"
   ]
  },
  {
   "cell_type": "code",
   "execution_count": 8,
   "metadata": {},
   "outputs": [
    {
     "data": {
      "text/plain": [
       "\n",
       "Call:\n",
       "lm(formula = change_death ~ change_open + change_admn, data = trafficdata)\n",
       "\n",
       "Residuals:\n",
       "     Min       1Q   Median       3Q      Max \n",
       "-1.25261 -0.14337 -0.00321  0.19679  0.79679 \n",
       "\n",
       "Coefficients:\n",
       "            Estimate Std. Error t value Pr(>|t|)    \n",
       "(Intercept) -0.49679    0.05243  -9.476 1.43e-12 ***\n",
       "change_open -0.41968    0.20559  -2.041   0.0467 *  \n",
       "change_admn -0.15060    0.11682  -1.289   0.2035    \n",
       "---\n",
       "Signif. codes:  0 ‘***’ 0.001 ‘**’ 0.01 ‘*’ 0.05 ‘.’ 0.1 ‘ ’ 1\n",
       "\n",
       "Residual standard error: 0.3435 on 48 degrees of freedom\n",
       "Multiple R-squared:  0.1187,\tAdjusted R-squared:  0.08194 \n",
       "F-statistic: 3.231 on 2 and 48 DF,  p-value: 0.04824\n"
      ]
     },
     "metadata": {},
     "output_type": "display_data"
    }
   ],
   "source": [
    "#generate change in admin per se laws\n",
    "trafficdata$change_admn <-trafficdata$admn90-trafficdata$admn85\n",
    "reg4<-lm(change_death~change_open + change_admn, data = trafficdata)\n",
    "summary(reg4)"
   ]
  },
  {
   "cell_type": "code",
   "execution_count": 7,
   "metadata": {},
   "outputs": [
    {
     "data": {
      "text/html": [
       "<ol class=list-inline>\n",
       "\t<li>'AK'</li>\n",
       "\t<li>'FL'</li>\n",
       "\t<li>'NM'</li>\n",
       "</ol>\n"
      ],
      "text/latex": [
       "\\begin{enumerate*}\n",
       "\\item 'AK'\n",
       "\\item 'FL'\n",
       "\\item 'NM'\n",
       "\\end{enumerate*}\n"
      ],
      "text/markdown": [
       "1. 'AK'\n",
       "2. 'FL'\n",
       "3. 'NM'\n",
       "\n",
       "\n"
      ],
      "text/plain": [
       "[1] \"AK\" \"FL\" \"NM\""
      ]
     },
     "metadata": {},
     "output_type": "display_data"
    }
   ],
   "source": [
    "subset(trafficdata$state, trafficdata$change_open ==1)"
   ]
  },
  {
   "cell_type": "code",
   "execution_count": null,
   "metadata": {},
   "outputs": [],
   "source": []
  }
 ],
 "metadata": {
  "kernelspec": {
   "display_name": "R",
   "language": "R",
   "name": "ir"
  },
  "language_info": {
   "codemirror_mode": "r",
   "file_extension": ".r",
   "mimetype": "text/x-r-source",
   "name": "R",
   "pygments_lexer": "r",
   "version": "3.4.4"
  }
 },
 "nbformat": 4,
 "nbformat_minor": 2
}
