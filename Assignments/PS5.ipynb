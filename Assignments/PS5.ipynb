{
 "cells": [
  {
   "cell_type": "markdown",
   "metadata": {},
   "source": [
    "# EEP/IAS 118 - Problem Set 5\n",
    "\n",
    "## Due __Friday, December 4__ at 11:59PM. \n",
    "\n",
    "Submit materials as one combined pdf on __Gradescope__. All work can be completed in this notebook. Make sure to run (`shift` + `enter`) all your answer cells before submission to make sure all your output is displayed.\n"
   ]
  },
  {
   "cell_type": "markdown",
   "metadata": {
    "deletable": false
   },
   "source": [
    "# Exercise 1. The Effect of Minimum Wage on Employment - Difference-in-Differences\n",
    "\n",
    "## Background\n",
    "\n",
    "\n",
    "In this exercise, we are going to look at a classic paper in the labor economics literature (note that we are only giving you a subset of the data, so your results are not going to match the results in the paper). This paper answers a very important (and often controversial!) question in economic policy: does increasing the minimum wage increase unemployment (or conversely, reduce employment)? Proponents of minimum wage laws point to the benefits for individuals who remain employed in low wage jobs. Opponents of minimum wage laws argue that the increases in labor costs result in higher unemployment because employers hire less employees to offset the cost increases. Card and Krueger (1994) test this latter hypothesis using the minimum wage increase in New Jersey that went into effect in 1992. They surveyed fast food establishments in New Jersey and Pennsylvania both before and after the policy came into effect, collecting information on wages, employment and prices. While the interviews all occurred in 1992, the post-period interviews are coded as 1993 in your data for the sake of simplicity. This data is then used to obtain a difference-in-differences estimate of the effect of minimum wage laws on employment. \n",
    "\n",
    "The dataset is saved as `minwage_data.csv` and contains the following variables:\n",
    "    \n",
    "\n",
    "|    Variable Name     | Description                       | \n",
    "|----------------------|-----------------------------------|\n",
    "| $store\\_id $      | Unique Store ID      |\n",
    "| $year    $ | Year    |\n",
    "| $state   $  | Dummy =1 if store is located in New Jersey, =0 for Pennsylvania     |\n",
    "| $shore  $  | Dummy =1 if store is located on New Jersey Shore, =0 otherwise    |\n",
    "| $empft   $   | Number of full-time employees in a store    |\n",
    "| $emppt  $    | Number of part-time employees in a store    |\n",
    "| $nmgrs  $    | Number of managers in a store    |\n",
    "| $wage\\_st $     | Starting wage in a store    |\n",
    "| $pentree $    | Price of an entree   |\n",
    "| $fte  $    | Number of full-time equivalent employees in a store ($empft+0.5emppt+nmgrs$)   |\n"
   ]
  },
  {
   "cell_type": "markdown",
   "metadata": {},
   "source": [
    "## Question 1.\n",
    "\n",
    "### Generate a summary table with two columns and two rows. There should be two columns:  one for New Jersey (Treatment column) and one for Pennsylvania (Control column) and two rows: one for the pre-period (year 1992), one for the post-period (years 1993). Within each cell, compute the mean number of full-time equivalent employees (the variable $fte$)."
   ]
  },
  {
   "cell_type": "code",
   "execution_count": 19,
   "metadata": {},
   "outputs": [],
   "source": [
    "#Input your code for Question 1 here. "
   ]
  },
  {
   "cell_type": "markdown",
   "metadata": {},
   "source": [
    "Add your written answer for Question 1 here"
   ]
  },
  {
   "cell_type": "markdown",
   "metadata": {},
   "source": [
    "## Question 2.\n",
    "\n",
    "### State the difference-in-differences estimator for the change in full-time equivalent employees in terms of the following quantities $\\bar Y_{NJ, pre}, \\bar Y_{NJ, post}, \\bar Y_{Penn, pre}, \\bar Y_{Penn, post}$, where $\\bar Y$ refers to the mean of $fte$. Using the means reported in part 1, calculate a value for the estimator you just proposed."
   ]
  },
  {
   "cell_type": "code",
   "execution_count": 20,
   "metadata": {},
   "outputs": [],
   "source": [
    "#Input your code for Question 2 here"
   ]
  },
  {
   "cell_type": "markdown",
   "metadata": {},
   "source": [
    "Add your written answer for Question 2 here"
   ]
  },
  {
   "cell_type": "markdown",
   "metadata": {},
   "source": [
    "## Question 3.\n",
    "\n",
    "### Let's proceed with estimating the difference-in-difference esstimation via a regression:\n",
    "\n",
    "#### (a)  Write an equation that will give you the difference-in-differences estimator for the impact of the minimum wage increase on full time equivalent employees."
   ]
  },
  {
   "cell_type": "markdown",
   "metadata": {},
   "source": [
    "Add your written answer for Question 3a here"
   ]
  },
  {
   "cell_type": "markdown",
   "metadata": {},
   "source": [
    "#### (b)  Give the __economic__ interpretation for each of the coefficients you wrote in part (a)"
   ]
  },
  {
   "cell_type": "markdown",
   "metadata": {},
   "source": [
    "Add your written answer for Question 3b here"
   ]
  },
  {
   "cell_type": "markdown",
   "metadata": {},
   "source": [
    "#### (c) Perform the estimation. "
   ]
  },
  {
   "cell_type": "code",
   "execution_count": 21,
   "metadata": {},
   "outputs": [],
   "source": [
    "# Input your code for Question 3c here"
   ]
  },
  {
   "cell_type": "markdown",
   "metadata": {},
   "source": [
    "#### (d) What do you conclude from the results of your estimation? Confirm that the results in this part are approximately the same as those in Question 2."
   ]
  },
  {
   "cell_type": "markdown",
   "metadata": {},
   "source": [
    "Add your written answer for Question 3d here"
   ]
  },
  {
   "cell_type": "markdown",
   "metadata": {},
   "source": [
    "## Question 4.\n",
    "\n",
    "### In this question, we will explore the identifying assumptions for the difference-in-differences estimator.\n",
    "\n",
    "#### (a) What key assumption do you need to make for your regression in part 3 to estimate the causal effect of minimum wage laws?\n"
   ]
  },
  {
   "cell_type": "markdown",
   "metadata": {},
   "source": [
    "Add your written answer for Question 4a here. \n",
    "\n"
   ]
  },
  {
   "cell_type": "markdown",
   "metadata": {},
   "source": [
    "#### (b) What additional data might you need to provide evidence for this assumption?"
   ]
  },
  {
   "cell_type": "markdown",
   "metadata": {
    "deletable": false
   },
   "source": [
    "Add your written answer for Question 4b here. "
   ]
  },
  {
   "cell_type": "markdown",
   "metadata": {},
   "source": [
    "## Question 5.\n",
    "\n",
    "### Let's say that we wanted to estimate the effect of minimum wage laws on full-time equivalent employment ($fte$), but we only had data from New Jersey. Using a simple difference in means, estimate and interpret the effect of minimum wage laws on full-time employment in New Jersey. Make sure to test for significance. "
   ]
  },
  {
   "cell_type": "code",
   "execution_count": 22,
   "metadata": {},
   "outputs": [],
   "source": [
    "#Input your code for Question 5 here"
   ]
  },
  {
   "cell_type": "markdown",
   "metadata": {},
   "source": [
    "Add your written answer for Question 5 here"
   ]
  },
  {
   "cell_type": "markdown",
   "metadata": {},
   "source": [
    "## Question 6. \n",
    "\n",
    "###  In no more than 3 sentences, compare your conclusion in  Question 4 to your conclusion in Question 5. If you draw different conclusions from the results of Questions 4 and 5, what might explain this difference (i.e., why is one estimator preferable)?"
   ]
  },
  {
   "cell_type": "markdown",
   "metadata": {
    "deletable": false
   },
   "source": [
    "Add your written answer for Question 6 here"
   ]
  },
  {
   "cell_type": "markdown",
   "metadata": {},
   "source": [
    "# Exercise 2:  Schoolbus Replacements and Attendance - Panel Regression\n",
    "\n",
    "## Background\n",
    "\n",
    "\n",
    "In this problem, we will look at the effect of replacing highly-polluting school buses on students' health. Many school districts in California, particularly less wealthy school districts, have school buses that are many decades old. These buses do not have many of the pollution controls that are now standard in vehicles, exposing the students that ride them to high concentrations of pollutants. In 2006, the state of California passed a proposition that allocated funds towards replacing the oldest of these school buses with new models that had adequate pollution controls. We have data for these replacements for the years 2009-2012, with the number of replacements per year more or less increasing over the sample period. This data is combined with attendance data from all school districts in California over the same period to test the impact of reducing pollution exposure through bus replacements on student health. Attendance is used to measure student health because students who are chronically ill are often absent from school. The full dataset is described in detail below.\n",
    "\n",
    " The dataset `Schoolbuses_PS5.dta` is an unbalanced panel of 209 school districts for the years 2009-2012, and contains the following variables:\n",
    " \n",
    " \n",
    "\n",
    "|    Variable Name     | Description                       | \n",
    "|----------------------|-----------------------------------|\n",
    "| $district\\_code $      | Unique School District Identifier    |\n",
    "| $year    $ | Year    |\n",
    "| $bus\\_replace   $  | Number of Buses Replaced   |\n",
    "| $attendance  $  | Percent of students in attendance   |\n",
    "| $gifted  $   | Numberof students in the Gifted Student Program  |\n",
    "| $white $    | Number of White Students  |\n",
    "| $college $    | Number of Students with Parents that Attended College   |\n",
    "| $advtgd $     | Number of Students from Higher Socio-Economic Backgrounds    |\n",
    "| $fleet\\_size $    | Number of Buses in the District Fleet   |\n",
    "| $pupils\\_trans  $    | Average Number of Students Traveling per Day   |\n",
    "| $enrollment$     | Number of Students Enrolled in the District \n",
    " \n",
    "Some summary statistics are provided below"
   ]
  },
  {
   "cell_type": "code",
   "execution_count": 23,
   "metadata": {
    "scrolled": false
   },
   "outputs": [
    {
     "data": {
      "text/html": [
       "<table>\n",
       "<caption>A tibble: 6 × 14</caption>\n",
       "<thead>\n",
       "\t<tr><th scope=col>district_code</th><th scope=col>year</th><th scope=col>bus_replace</th><th scope=col>attendance</th><th scope=col>gifted</th><th scope=col>white</th><th scope=col>college</th><th scope=col>advtgd</th><th scope=col>fleet_size</th><th scope=col>pupils_trans</th><th scope=col>enrollment</th><th scope=col>Latitude</th><th scope=col>Longitude</th><th scope=col>rand</th></tr>\n",
       "\t<tr><th scope=col>&lt;dbl&gt;</th><th scope=col>&lt;dbl&gt;</th><th scope=col>&lt;dbl&gt;</th><th scope=col>&lt;dbl&gt;</th><th scope=col>&lt;dbl&gt;</th><th scope=col>&lt;dbl&gt;</th><th scope=col>&lt;dbl&gt;</th><th scope=col>&lt;dbl&gt;</th><th scope=col>&lt;dbl&gt;</th><th scope=col>&lt;dbl&gt;</th><th scope=col>&lt;dbl&gt;</th><th scope=col>&lt;dbl&gt;</th><th scope=col>&lt;dbl&gt;</th><th scope=col>&lt;dbl&gt;</th></tr>\n",
       "</thead>\n",
       "<tbody>\n",
       "\t<tr><td>5271548</td><td>2012</td><td> 4.907253</td><td> 96.82945</td><td>  0</td><td> 93</td><td>  0</td><td> 54</td><td> 4</td><td>316.6</td><td> 387</td><td>40.06913</td><td>-122.1892</td><td>0.001363096</td></tr>\n",
       "\t<tr><td> 561556</td><td>2009</td><td> 0.000000</td><td> 91.62920</td><td>121</td><td>509</td><td>126</td><td>442</td><td> 6</td><td>238.3</td><td> 863</td><td>38.07851</td><td>-120.5525</td><td>0.003052204</td></tr>\n",
       "\t<tr><td>1363115</td><td>2011</td><td> 0.000000</td><td> 95.46870</td><td>236</td><td>177</td><td>390</td><td>984</td><td>15</td><td>437.5</td><td>4009</td><td>32.78138</td><td>-115.5507</td><td>0.003440836</td></tr>\n",
       "\t<tr><td>1463297</td><td>2012</td><td>11.750881</td><td>105.28787</td><td>  1</td><td> 19</td><td>  2</td><td> 30</td><td> 4</td><td> 20.0</td><td>  66</td><td>36.80253</td><td>-118.1967</td><td>0.005196966</td></tr>\n",
       "\t<tr><td>4770359</td><td>2010</td><td> 0.000000</td><td>103.56757</td><td> 11</td><td> 19</td><td>  0</td><td>  1</td><td> 1</td><td> 24.0</td><td>  37</td><td>41.91049</td><td>-122.5622</td><td>0.005227630</td></tr>\n",
       "\t<tr><td> 961945</td><td>2011</td><td> 2.060723</td><td> 93.98731</td><td>  0</td><td>244</td><td> 57</td><td>163</td><td> 4</td><td>204.0</td><td> 394</td><td>38.60527</td><td>-120.7119</td><td>0.007334597</td></tr>\n",
       "</tbody>\n",
       "</table>\n"
      ],
      "text/latex": [
       "A tibble: 6 × 14\n",
       "\\begin{tabular}{llllllllllllll}\n",
       " district\\_code & year & bus\\_replace & attendance & gifted & white & college & advtgd & fleet\\_size & pupils\\_trans & enrollment & Latitude & Longitude & rand\\\\\n",
       " <dbl> & <dbl> & <dbl> & <dbl> & <dbl> & <dbl> & <dbl> & <dbl> & <dbl> & <dbl> & <dbl> & <dbl> & <dbl> & <dbl>\\\\\n",
       "\\hline\n",
       "\t 5271548 & 2012 &  4.907253 &  96.82945 &   0 &  93 &   0 &  54 &  4 & 316.6 &  387 & 40.06913 & -122.1892 & 0.001363096\\\\\n",
       "\t  561556 & 2009 &  0.000000 &  91.62920 & 121 & 509 & 126 & 442 &  6 & 238.3 &  863 & 38.07851 & -120.5525 & 0.003052204\\\\\n",
       "\t 1363115 & 2011 &  0.000000 &  95.46870 & 236 & 177 & 390 & 984 & 15 & 437.5 & 4009 & 32.78138 & -115.5507 & 0.003440836\\\\\n",
       "\t 1463297 & 2012 & 11.750881 & 105.28787 &   1 &  19 &   2 &  30 &  4 &  20.0 &   66 & 36.80253 & -118.1967 & 0.005196966\\\\\n",
       "\t 4770359 & 2010 &  0.000000 & 103.56757 &  11 &  19 &   0 &   1 &  1 &  24.0 &   37 & 41.91049 & -122.5622 & 0.005227630\\\\\n",
       "\t  961945 & 2011 &  2.060723 &  93.98731 &   0 & 244 &  57 & 163 &  4 & 204.0 &  394 & 38.60527 & -120.7119 & 0.007334597\\\\\n",
       "\\end{tabular}\n"
      ],
      "text/markdown": [
       "\n",
       "A tibble: 6 × 14\n",
       "\n",
       "| district_code &lt;dbl&gt; | year &lt;dbl&gt; | bus_replace &lt;dbl&gt; | attendance &lt;dbl&gt; | gifted &lt;dbl&gt; | white &lt;dbl&gt; | college &lt;dbl&gt; | advtgd &lt;dbl&gt; | fleet_size &lt;dbl&gt; | pupils_trans &lt;dbl&gt; | enrollment &lt;dbl&gt; | Latitude &lt;dbl&gt; | Longitude &lt;dbl&gt; | rand &lt;dbl&gt; |\n",
       "|---|---|---|---|---|---|---|---|---|---|---|---|---|---|\n",
       "| 5271548 | 2012 |  4.907253 |  96.82945 |   0 |  93 |   0 |  54 |  4 | 316.6 |  387 | 40.06913 | -122.1892 | 0.001363096 |\n",
       "|  561556 | 2009 |  0.000000 |  91.62920 | 121 | 509 | 126 | 442 |  6 | 238.3 |  863 | 38.07851 | -120.5525 | 0.003052204 |\n",
       "| 1363115 | 2011 |  0.000000 |  95.46870 | 236 | 177 | 390 | 984 | 15 | 437.5 | 4009 | 32.78138 | -115.5507 | 0.003440836 |\n",
       "| 1463297 | 2012 | 11.750881 | 105.28787 |   1 |  19 |   2 |  30 |  4 |  20.0 |   66 | 36.80253 | -118.1967 | 0.005196966 |\n",
       "| 4770359 | 2010 |  0.000000 | 103.56757 |  11 |  19 |   0 |   1 |  1 |  24.0 |   37 | 41.91049 | -122.5622 | 0.005227630 |\n",
       "|  961945 | 2011 |  2.060723 |  93.98731 |   0 | 244 |  57 | 163 |  4 | 204.0 |  394 | 38.60527 | -120.7119 | 0.007334597 |\n",
       "\n"
      ],
      "text/plain": [
       "  district_code year bus_replace attendance gifted white college advtgd\n",
       "1 5271548       2012  4.907253    96.82945    0     93     0      54   \n",
       "2  561556       2009  0.000000    91.62920  121    509   126     442   \n",
       "3 1363115       2011  0.000000    95.46870  236    177   390     984   \n",
       "4 1463297       2012 11.750881   105.28787    1     19     2      30   \n",
       "5 4770359       2010  0.000000   103.56757   11     19     0       1   \n",
       "6  961945       2011  2.060723    93.98731    0    244    57     163   \n",
       "  fleet_size pupils_trans enrollment Latitude Longitude rand       \n",
       "1  4         316.6         387       40.06913 -122.1892 0.001363096\n",
       "2  6         238.3         863       38.07851 -120.5525 0.003052204\n",
       "3 15         437.5        4009       32.78138 -115.5507 0.003440836\n",
       "4  4          20.0          66       36.80253 -118.1967 0.005196966\n",
       "5  1          24.0          37       41.91049 -122.5622 0.005227630\n",
       "6  4         204.0         394       38.60527 -120.7119 0.007334597"
      ]
     },
     "metadata": {},
     "output_type": "display_data"
    },
    {
     "name": "stdout",
     "output_type": "stream",
     "text": [
      "[1] \"Sum Stats\"\n"
     ]
    },
    {
     "data": {
      "text/html": [
       "<table>\n",
       "<caption>A data.frame: 3 × 5</caption>\n",
       "<thead>\n",
       "\t<tr><th scope=col>Variable</th><th scope=col>mean</th><th scope=col>sd</th><th scope=col>min</th><th scope=col>max</th></tr>\n",
       "\t<tr><th scope=col>&lt;chr&gt;</th><th scope=col>&lt;dbl&gt;</th><th scope=col>&lt;dbl&gt;</th><th scope=col>&lt;dbl&gt;</th><th scope=col>&lt;dbl&gt;</th></tr>\n",
       "</thead>\n",
       "<tbody>\n",
       "\t<tr><td>Bus Replacements</td><td>  2.524550</td><td>   3.476494</td><td>0</td><td>   12.92825</td></tr>\n",
       "\t<tr><td>Enrollment      </td><td>964.702000</td><td>1505.856060</td><td>7</td><td>12931.00000</td></tr>\n",
       "\t<tr><td>Fleet Size      </td><td>  5.073948</td><td>   5.039842</td><td>0</td><td>   30.00000</td></tr>\n",
       "</tbody>\n",
       "</table>\n"
      ],
      "text/latex": [
       "A data.frame: 3 × 5\n",
       "\\begin{tabular}{lllll}\n",
       " Variable & mean & sd & min & max\\\\\n",
       " <chr> & <dbl> & <dbl> & <dbl> & <dbl>\\\\\n",
       "\\hline\n",
       "\t Bus Replacements &   2.524550 &    3.476494 & 0 &    12.92825\\\\\n",
       "\t Enrollment       & 964.702000 & 1505.856060 & 7 & 12931.00000\\\\\n",
       "\t Fleet Size       &   5.073948 &    5.039842 & 0 &    30.00000\\\\\n",
       "\\end{tabular}\n"
      ],
      "text/markdown": [
       "\n",
       "A data.frame: 3 × 5\n",
       "\n",
       "| Variable &lt;chr&gt; | mean &lt;dbl&gt; | sd &lt;dbl&gt; | min &lt;dbl&gt; | max &lt;dbl&gt; |\n",
       "|---|---|---|---|---|\n",
       "| Bus Replacements |   2.524550 |    3.476494 | 0 |    12.92825 |\n",
       "| Enrollment       | 964.702000 | 1505.856060 | 7 | 12931.00000 |\n",
       "| Fleet Size       |   5.073948 |    5.039842 | 0 |    30.00000 |\n",
       "\n"
      ],
      "text/plain": [
       "  Variable         mean       sd          min max        \n",
       "1 Bus Replacements   2.524550    3.476494 0      12.92825\n",
       "2 Enrollment       964.702000 1505.856060 7   12931.00000\n",
       "3 Fleet Size         5.073948    5.039842 0      30.00000"
      ]
     },
     "metadata": {},
     "output_type": "display_data"
    }
   ],
   "source": [
    "\n",
    "schooldata <- read_dta(\"Schoolbuses_PS5.dta\")\n",
    "head(schooldata)\n",
    "\n",
    "# Summary Stats\n",
    "busrep <- summarize(schooldata, mean = mean(bus_replace),\n",
    "             sd= sd(bus_replace),\n",
    "             min= min(bus_replace),\n",
    "             max = max(bus_replace))\n",
    "\n",
    "enroll <- summarize(schooldata, mean = mean(enrollment),\n",
    "             sd = sd(enrollment),\n",
    "             min = min(enrollment),\n",
    "             max = max(enrollment))\n",
    "fleet <- summarize(schooldata, mean = mean(fleet_size, na.rm = TRUE),\n",
    "             sd = sd(fleet_size, na.rm = TRUE),\n",
    "             min = min(fleet_size, na.rm = TRUE),\n",
    "             max = max(fleet_size, na.rm = TRUE))\n",
    "\n",
    "ss <- rbind(busrep, enroll, fleet)\n",
    "sumstats <- cbind(c(\"Bus Replacements\", \"Enrollment\", \"Fleet Size\"), ss)\n",
    "names(sumstats)[1] <- \"Variable\"\n",
    "\n",
    "print('Sum Stats')\n",
    "sumstats"
   ]
  },
  {
   "cell_type": "markdown",
   "metadata": {},
   "source": [
    "## Question 1.\n",
    "\n",
    "### You think that it might be important to control for the year in your regression of attendance on bus replacements.  First, generate year dummy variables $(yr_{2009}, yr_{2010}, yr_{2011}, yr_{2012})$.  Next, estimate the following equation for school attendance.\n",
    "\\begin{align*}\n",
    "attendance_{it} = \\beta_0+ \\beta_1 bus\\_replace_{it} + \\beta_2white_{it} &+ \\beta_3college_{it} + \\beta_4advtgd_{it} + \\beta_5gifted_{it} \\ \\ \\ \\ \\ \\ (1) \\\\\n",
    "&+ \\delta_1yr_{2010} + \\delta_2yr_{2011} + \\delta_3yr_{2012} + u_{it}    \n",
    "\\end{align*}\n",
    "\n",
    "#### (a) Estimate the model and report your results."
   ]
  },
  {
   "cell_type": "code",
   "execution_count": 24,
   "metadata": {},
   "outputs": [],
   "source": [
    "#Input your code for Question 1 here"
   ]
  },
  {
   "cell_type": "markdown",
   "metadata": {},
   "source": [
    "Add any written answer for Question 1a here"
   ]
  },
  {
   "cell_type": "markdown",
   "metadata": {},
   "source": [
    "#### (b) Give the meaning (economic interpretation) of $\\beta_0$ and $\\delta_{1}$"
   ]
  },
  {
   "cell_type": "markdown",
   "metadata": {},
   "source": [
    "Add your written answer for Question 1b here"
   ]
  },
  {
   "cell_type": "markdown",
   "metadata": {},
   "source": [
    "#### (c) Interpret (SSS) your estimate for $\\beta_1$. "
   ]
  },
  {
   "cell_type": "markdown",
   "metadata": {},
   "source": [
    "Add your written answer for Question 1c here"
   ]
  },
  {
   "cell_type": "markdown",
   "metadata": {},
   "source": [
    "#### (d) Why is the year 2009 dummy excluded?"
   ]
  },
  {
   "cell_type": "markdown",
   "metadata": {},
   "source": [
    "Add your written answer for Question 1d here"
   ]
  },
  {
   "cell_type": "markdown",
   "metadata": {},
   "source": [
    "## Question 2.\n",
    "\n",
    "### Consider now the following (unobserved) fixed effects model:\n",
    "\\begin{align*}\n",
    "attendance_{it} =\\beta_0+ \\beta_1 bus\\_replace_{it} + \\beta_2white_{it} + \\beta_3college_{it} + \\beta_4advtgd_{it}+ \\beta_5gifted_{it} + \\boldsymbol{\\delta}_t+\\mathbf{a_i} +u_{it} \\ \\ \\ (2)\n",
    "\\end{align*}\n",
    "\n",
    "#### (a) What is the interpretation of the vector of fixed effects terms $\\mathbf{a_{i}}$?"
   ]
  },
  {
   "cell_type": "markdown",
   "metadata": {},
   "source": [
    "Add your written answer for Question 2a here"
   ]
  },
  {
   "cell_type": "markdown",
   "metadata": {},
   "source": [
    "#### (b) Why are we adding these fixed effects, as opposed to estimating model (2)? In other words, what do these fixed effects control for in the regression? "
   ]
  },
  {
   "cell_type": "markdown",
   "metadata": {},
   "source": [
    "Add your written answer for Question 2b here"
   ]
  },
  {
   "cell_type": "markdown",
   "metadata": {},
   "source": [
    "#### (c) Estimate the model and  interpret $\\hat \\beta_1$ (remember SSS)"
   ]
  },
  {
   "cell_type": "code",
   "execution_count": 25,
   "metadata": {},
   "outputs": [],
   "source": [
    "# Input your code for Question 2c here"
   ]
  },
  {
   "cell_type": "markdown",
   "metadata": {},
   "source": [
    "Add your written answer for Question 2c here"
   ]
  },
  {
   "cell_type": "markdown",
   "metadata": {},
   "source": [
    "#### (d) Comment specifically on how the size of $\\hat \\beta_1$ changes from model (1) to model (2) and explain why  you might have expected it to go in this direction.  "
   ]
  },
  {
   "cell_type": "markdown",
   "metadata": {},
   "source": [
    "Add your written answer for Question 2d here\n"
   ]
  },
  {
   "cell_type": "markdown",
   "metadata": {},
   "source": [
    "## Question 3.\n",
    "\n",
    "### What are the assumptions necessary for the parameters of model (2) to be unbiased? Do you think they are likely to hold? Whatever position you take, give your argument."
   ]
  },
  {
   "cell_type": "markdown",
   "metadata": {},
   "source": [
    "Add your written answer for Question 3 here"
   ]
  },
  {
   "cell_type": "markdown",
   "metadata": {},
   "source": [
    "## Downloading your Notebook\n",
    "\n",
    "Download a PDF copy of your notebook by using __File > Print Preview. \n",
    "\n",
    "Then print and save as PDF."
   ]
  }
 ],
 "metadata": {
  "@webio": {
   "lastCommId": null,
   "lastKernelId": null
  },
  "celltoolbar": "Edit Metadata",
  "kernelspec": {
   "display_name": "R",
   "language": "R",
   "name": "ir"
  },
  "language_info": {
   "codemirror_mode": "r",
   "file_extension": ".r",
   "mimetype": "text/x-r-source",
   "name": "R",
   "pygments_lexer": "r",
   "version": "3.6.1"
  },
  "toc": {
   "base_numbering": 1,
   "nav_menu": {},
   "number_sections": true,
   "sideBar": true,
   "skip_h1_title": false,
   "title_cell": "Table of Contents",
   "title_sidebar": "Contents",
   "toc_cell": false,
   "toc_position": {},
   "toc_section_display": true,
   "toc_window_display": false
  },
  "varInspector": {
   "cols": {
    "lenName": 16,
    "lenType": 16,
    "lenVar": 40
   },
   "kernels_config": {
    "python": {
     "delete_cmd_postfix": "",
     "delete_cmd_prefix": "del ",
     "library": "var_list.py",
     "varRefreshCmd": "print(var_dic_list())"
    },
    "r": {
     "delete_cmd_postfix": ") ",
     "delete_cmd_prefix": "rm(",
     "library": "var_list.r",
     "varRefreshCmd": "cat(var_dic_list()) "
    }
   },
   "types_to_exclude": [
    "module",
    "function",
    "builtin_function_or_method",
    "instance",
    "_Feature"
   ],
   "window_display": false
  }
 },
 "nbformat": 4,
 "nbformat_minor": 2
}
