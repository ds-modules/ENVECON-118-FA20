{
 "cells": [
  {
   "cell_type": "markdown",
   "metadata": {},
   "source": [
    "# Small Assignment 5\n",
    "\n",
    "Use the data in `givedirectly.csv` for this exercise.\n",
    "\n",
    "## Food security and the impact of Give Directly Cash Transfers in Kenya.\n",
    "\n",
    "Households in Kenya often face food insecurity. In a 2016 paper, Johannes Haushofer and Jeremy Shapiro decided to work with a non-profit called Give Directly to evaluate the impact of simply giving cash to low-income Kenyan households - no strings attached. \n",
    "\n",
    "The data `givedirectly.csv` consist of all households who were part of Haushofer and Shapiro's randomized control trial. The dataset includes the following variables:\n",
    "\n",
    "treat: dummy variable equal to one if the household received the cash transfer.\n",
    "\n",
    "female: dummy variable equal to one if the woman in the household was the one to receive the cash transfer.\n",
    "\n",
    "married: dummy variable equal to one if the head of the household is married.\n",
    "\n",
    "nchildren: number of children the head of household has.\n",
    "\n",
    "hhsize: total number of people living in the houseohld.\n",
    "\n",
    "educ: years of education for the household head.\n",
    "\n",
    "children18: number of children under 18 living in the household.\n",
    "\n",
    "fullmeals: dummy variable equal to one if every member of the household eats at least two full meals every day.\n",
    "\n",
    "### 1. Estimate the impact of the program on food security. That is, estimate the impact of the program on the variable fullmeals. Interpret your estimate.\n",
    "\n"
   ]
  },
  {
   "cell_type": "code",
   "execution_count": 1,
   "metadata": {},
   "outputs": [],
   "source": [
    "#Write your code here"
   ]
  },
  {
   "cell_type": "markdown",
   "metadata": {},
   "source": [
    "Write your explanation here"
   ]
  },
  {
   "cell_type": "markdown",
   "metadata": {},
   "source": [
    "### 2. What are the conditions for the validity of the method to measure the causal impact of the program? Proceed with the appropriate tests that support the validity of the randomization.\n",
    "\n"
   ]
  },
  {
   "cell_type": "markdown",
   "metadata": {},
   "source": [
    "Write your explanation here"
   ]
  },
  {
   "cell_type": "code",
   "execution_count": 2,
   "metadata": {},
   "outputs": [],
   "source": [
    "#Write your code here"
   ]
  },
  {
   "cell_type": "markdown",
   "metadata": {},
   "source": [
    "Write your explanation here"
   ]
  },
  {
   "cell_type": "markdown",
   "metadata": {},
   "source": [
    "### 3. Add variables that may influence the likelihood that every household member eats at least two full meals per day. Do they actually explain the food security variable? Do they affect the estimated coefficient of the program? Is that what you expected, and why?\n"
   ]
  },
  {
   "cell_type": "code",
   "execution_count": 3,
   "metadata": {},
   "outputs": [],
   "source": [
    "#Write your code here"
   ]
  },
  {
   "cell_type": "markdown",
   "metadata": {},
   "source": [
    "Write your explanation here"
   ]
  },
  {
   "cell_type": "markdown",
   "metadata": {},
   "source": [
    "### 4. Now, write a simple equation (without unnecessary variables) that allows you to test whether the impact of program is equal for households where the household head was married versus those where the household head was not married. Report the result and comment."
   ]
  },
  {
   "cell_type": "code",
   "execution_count": 4,
   "metadata": {},
   "outputs": [],
   "source": [
    "#Write your code here"
   ]
  },
  {
   "cell_type": "markdown",
   "metadata": {},
   "source": [
    "Write your explanation here"
   ]
  }
 ],
 "metadata": {
  "kernelspec": {
   "display_name": "R",
   "language": "R",
   "name": "ir"
  },
  "language_info": {
   "codemirror_mode": "r",
   "file_extension": ".r",
   "mimetype": "text/x-r-source",
   "name": "R",
   "pygments_lexer": "r",
   "version": "3.6.1"
  }
 },
 "nbformat": 4,
 "nbformat_minor": 2
}
